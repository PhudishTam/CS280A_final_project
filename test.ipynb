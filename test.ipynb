{
 "cells": [
  {
   "cell_type": "code",
   "execution_count": 5,
   "metadata": {},
   "outputs": [],
   "source": [
    "import torch"
   ]
  },
  {
   "cell_type": "code",
   "execution_count": 6,
   "metadata": {},
   "outputs": [
    {
     "name": "stdout",
     "output_type": "stream",
     "text": [
      "1.13.1+cu117\n"
     ]
    }
   ],
   "source": [
    "print(torch.__version__)"
   ]
  },
  {
   "cell_type": "code",
   "execution_count": 3,
   "metadata": {},
   "outputs": [
    {
     "name": "stdout",
     "output_type": "stream",
     "text": [
      "Total number of files: 5000\n"
     ]
    }
   ],
   "source": [
    "import glob\n",
    "\n",
    "# Count the number of files in the directory\n",
    "file_count = len(glob.glob('initData/MS_COCO/val_set/val2017/*'))\n",
    "print(f'Total number of files: {file_count}')"
   ]
  },
  {
   "cell_type": "code",
   "execution_count": 30,
   "metadata": {},
   "outputs": [
    {
     "name": "stdout",
     "output_type": "stream",
     "text": [
      "loading annotations into memory...\n",
      "Done (t=0.02s)\n",
      "creating index...\n",
      "index created!\n"
     ]
    }
   ],
   "source": [
    "from pycocotools.coco import COCO\n",
    "\n",
    "# Path to the COCO annotations file\n",
    "annotation_file = 'initData/MS_COCO/training_set/annotations/captions_val2017.json'\n",
    "\n",
    "# Initialize the COCO API\n",
    "coco = COCO(annotation_file)\n"
   ]
  },
  {
   "cell_type": "code",
   "execution_count": 4,
   "metadata": {},
   "outputs": [
    {
     "name": "stdout",
     "output_type": "stream",
     "text": [
      "Requirement already satisfied: huggingface_hub in /accounts/grad/phudish_p/.conda/envs/280_project/lib/python3.9/site-packages (0.26.2)\n",
      "Requirement already satisfied: filelock in /accounts/grad/phudish_p/.conda/envs/280_project/lib/python3.9/site-packages (from huggingface_hub) (3.16.1)\n",
      "Requirement already satisfied: fsspec>=2023.5.0 in /accounts/grad/phudish_p/.conda/envs/280_project/lib/python3.9/site-packages (from huggingface_hub) (2024.3.1)\n",
      "Requirement already satisfied: packaging>=20.9 in /accounts/grad/phudish_p/.conda/envs/280_project/lib/python3.9/site-packages (from huggingface_hub) (24.2)\n",
      "Requirement already satisfied: pyyaml>=5.1 in /accounts/grad/phudish_p/.conda/envs/280_project/lib/python3.9/site-packages (from huggingface_hub) (6.0.2)\n",
      "Requirement already satisfied: requests in /accounts/grad/phudish_p/.conda/envs/280_project/lib/python3.9/site-packages (from huggingface_hub) (2.32.3)\n",
      "Requirement already satisfied: tqdm>=4.42.1 in /accounts/grad/phudish_p/.conda/envs/280_project/lib/python3.9/site-packages (from huggingface_hub) (4.64.1)\n",
      "Requirement already satisfied: typing-extensions>=3.7.4.3 in /accounts/grad/phudish_p/.conda/envs/280_project/lib/python3.9/site-packages (from huggingface_hub) (4.12.2)\n",
      "Requirement already satisfied: charset-normalizer<4,>=2 in /accounts/grad/phudish_p/.conda/envs/280_project/lib/python3.9/site-packages (from requests->huggingface_hub) (3.4.0)\n",
      "Requirement already satisfied: idna<4,>=2.5 in /accounts/grad/phudish_p/.conda/envs/280_project/lib/python3.9/site-packages (from requests->huggingface_hub) (3.10)\n",
      "Requirement already satisfied: urllib3<3,>=1.21.1 in /accounts/grad/phudish_p/.conda/envs/280_project/lib/python3.9/site-packages (from requests->huggingface_hub) (2.2.3)\n",
      "Requirement already satisfied: certifi>=2017.4.17 in /accounts/grad/phudish_p/.conda/envs/280_project/lib/python3.9/site-packages (from requests->huggingface_hub) (2024.8.30)\n"
     ]
    }
   ],
   "source": [
    "!pip install huggingface_hub"
   ]
  },
  {
   "cell_type": "code",
   "execution_count": 37,
   "metadata": {},
   "outputs": [
    {
     "name": "stdout",
     "output_type": "stream",
     "text": [
      "Image ID for 000000579070.jpg: 579070\n",
      "Annotations for 000000579070.jpg:\n",
      "{'image_id': 579070, 'id': 597110, 'caption': 'A group of people sitting around a table. '}\n",
      "{'image_id': 579070, 'id': 598283, 'caption': 'A group of people gathered around the table.'}\n",
      "{'image_id': 579070, 'id': 605945, 'caption': 'A group of people sitting at a table with many small sip cups.'}\n",
      "{'image_id': 579070, 'id': 607487, 'caption': 'Five people sitting together at a table with Dixie cups.'}\n",
      "{'image_id': 579070, 'id': 607601, 'caption': 'A group of friends sitting around a wooden table together.'}\n"
     ]
    }
   ],
   "source": [
    "# Specify the filename of the image\n",
    "filename = '000000579070.jpg'\n",
    "\n",
    "# Get all image IDs\n",
    "img_ids = coco.getImgIds()\n",
    "\n",
    "# Iterate through image IDs to find the matching filename\n",
    "for img_id in img_ids:\n",
    "    img_info = coco.loadImgs(img_id)[0]\n",
    "    if img_info['file_name'] == filename:\n",
    "        print(f\"Image ID for {filename}: {img_id}\")\n",
    "\n",
    "        # Retrieve annotations for the image\n",
    "        ann_ids = coco.getAnnIds(imgIds=img_id)\n",
    "        annotations = coco.loadAnns(ann_ids)\n",
    "\n",
    "        print(f\"Annotations for {filename}:\")\n",
    "        for ann in annotations:\n",
    "            print(ann)\n",
    "        break\n",
    "else:\n",
    "    print(f\"Image {filename} not found in the dataset.\")\n"
   ]
  },
  {
   "cell_type": "code",
   "execution_count": null,
   "metadata": {},
   "outputs": [],
   "source": []
  }
 ],
 "metadata": {
  "kernelspec": {
   "display_name": "280_project",
   "language": "python",
   "name": "python3"
  },
  "language_info": {
   "codemirror_mode": {
    "name": "ipython",
    "version": 3
   },
   "file_extension": ".py",
   "mimetype": "text/x-python",
   "name": "python",
   "nbconvert_exporter": "python",
   "pygments_lexer": "ipython3",
   "version": "3.9.20"
  }
 },
 "nbformat": 4,
 "nbformat_minor": 2
}
